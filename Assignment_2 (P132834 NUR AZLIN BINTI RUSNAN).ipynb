{
 "cells": [
  {
   "cell_type": "code",
   "execution_count": 70,
   "id": "2a1c7968",
   "metadata": {},
   "outputs": [],
   "source": [
    "import pandas as pd\n",
    "import numpy as np\n",
    "import seaborn as sns\n",
    "import matplotlib.pyplot as plt\n",
    "\n",
    "\n",
    "%matplotlib inline"
   ]
  },
  {
   "cell_type": "markdown",
   "id": "89f1d12b",
   "metadata": {},
   "source": [
    "#### Step 1: Load the dataset"
   ]
  },
  {
   "cell_type": "code",
   "execution_count": 71,
   "id": "8e14e868",
   "metadata": {},
   "outputs": [],
   "source": [
    "df = pd.read_csv(\"C:/Users/User/UKM - Nur Azlin Binti Rusnan/Sem 2/Machine Learning/Assignment 2/Assignment2_2023_data.txt\", names=[\n",
    "    'Subject id', 'Jitter (local)', 'Jitter (local, absolute)', 'Jitter (rap)', 'Jitter (ppq5)', 'Jitter (ddp)',\n",
    "    'Shimmer (local)', 'Shimmer (local, dB)', 'Shimmer (apq3)', 'Shimmer (apq5)', 'Shimmer (apq11)', 'Shimmer (dda)',\n",
    "    'AC', 'NTH', 'HTN', 'Median pitch', 'Mean pitch', 'Standard deviation', 'Minimum pitch', 'Maximum pitch',\n",
    "    'Number of pulses', 'Number of periods', 'Mean period', 'Standard deviation of period',\n",
    "    'Fraction of locally unvoiced frames', 'Number of voice breaks', 'Degree of voice breaks', 'UPDRS score', 'Class Information'\n",
    "])"
   ]
  },
  {
   "cell_type": "code",
   "execution_count": 72,
   "id": "f419a883",
   "metadata": {},
   "outputs": [
    {
     "data": {
      "text/html": [
       "<div>\n",
       "<style scoped>\n",
       "    .dataframe tbody tr th:only-of-type {\n",
       "        vertical-align: middle;\n",
       "    }\n",
       "\n",
       "    .dataframe tbody tr th {\n",
       "        vertical-align: top;\n",
       "    }\n",
       "\n",
       "    .dataframe thead th {\n",
       "        text-align: right;\n",
       "    }\n",
       "</style>\n",
       "<table border=\"1\" class=\"dataframe\">\n",
       "  <thead>\n",
       "    <tr style=\"text-align: right;\">\n",
       "      <th></th>\n",
       "      <th>Subject id</th>\n",
       "      <th>Jitter (local)</th>\n",
       "      <th>Jitter (local, absolute)</th>\n",
       "      <th>Jitter (rap)</th>\n",
       "      <th>Jitter (ppq5)</th>\n",
       "      <th>Jitter (ddp)</th>\n",
       "      <th>Shimmer (local)</th>\n",
       "      <th>Shimmer (local, dB)</th>\n",
       "      <th>Shimmer (apq3)</th>\n",
       "      <th>Shimmer (apq5)</th>\n",
       "      <th>...</th>\n",
       "      <th>Maximum pitch</th>\n",
       "      <th>Number of pulses</th>\n",
       "      <th>Number of periods</th>\n",
       "      <th>Mean period</th>\n",
       "      <th>Standard deviation of period</th>\n",
       "      <th>Fraction of locally unvoiced frames</th>\n",
       "      <th>Number of voice breaks</th>\n",
       "      <th>Degree of voice breaks</th>\n",
       "      <th>UPDRS score</th>\n",
       "      <th>Class Information</th>\n",
       "    </tr>\n",
       "  </thead>\n",
       "  <tbody>\n",
       "    <tr>\n",
       "      <th>0</th>\n",
       "      <td>1</td>\n",
       "      <td>1.488</td>\n",
       "      <td>0.000090</td>\n",
       "      <td>0.900</td>\n",
       "      <td>0.794</td>\n",
       "      <td>2.699</td>\n",
       "      <td>8.334</td>\n",
       "      <td>0.779</td>\n",
       "      <td>4.517</td>\n",
       "      <td>4.609</td>\n",
       "      <td>...</td>\n",
       "      <td>187.576</td>\n",
       "      <td>160</td>\n",
       "      <td>159</td>\n",
       "      <td>0.006065</td>\n",
       "      <td>0.000416</td>\n",
       "      <td>0.000</td>\n",
       "      <td>0</td>\n",
       "      <td>0.000</td>\n",
       "      <td>23</td>\n",
       "      <td>1</td>\n",
       "    </tr>\n",
       "    <tr>\n",
       "      <th>1</th>\n",
       "      <td>1</td>\n",
       "      <td>0.728</td>\n",
       "      <td>0.000038</td>\n",
       "      <td>0.353</td>\n",
       "      <td>0.376</td>\n",
       "      <td>1.059</td>\n",
       "      <td>5.864</td>\n",
       "      <td>0.642</td>\n",
       "      <td>2.058</td>\n",
       "      <td>3.180</td>\n",
       "      <td>...</td>\n",
       "      <td>234.505</td>\n",
       "      <td>170</td>\n",
       "      <td>169</td>\n",
       "      <td>0.005181</td>\n",
       "      <td>0.000403</td>\n",
       "      <td>2.247</td>\n",
       "      <td>0</td>\n",
       "      <td>0.000</td>\n",
       "      <td>23</td>\n",
       "      <td>1</td>\n",
       "    </tr>\n",
       "    <tr>\n",
       "      <th>2</th>\n",
       "      <td>1</td>\n",
       "      <td>1.220</td>\n",
       "      <td>0.000074</td>\n",
       "      <td>0.732</td>\n",
       "      <td>0.670</td>\n",
       "      <td>2.196</td>\n",
       "      <td>8.719</td>\n",
       "      <td>0.875</td>\n",
       "      <td>4.347</td>\n",
       "      <td>5.166</td>\n",
       "      <td>...</td>\n",
       "      <td>211.442</td>\n",
       "      <td>1431</td>\n",
       "      <td>1427</td>\n",
       "      <td>0.006071</td>\n",
       "      <td>0.000474</td>\n",
       "      <td>10.656</td>\n",
       "      <td>1</td>\n",
       "      <td>0.178</td>\n",
       "      <td>23</td>\n",
       "      <td>1</td>\n",
       "    </tr>\n",
       "    <tr>\n",
       "      <th>3</th>\n",
       "      <td>1</td>\n",
       "      <td>2.502</td>\n",
       "      <td>0.000123</td>\n",
       "      <td>1.156</td>\n",
       "      <td>1.634</td>\n",
       "      <td>3.469</td>\n",
       "      <td>13.513</td>\n",
       "      <td>1.273</td>\n",
       "      <td>5.263</td>\n",
       "      <td>8.771</td>\n",
       "      <td>...</td>\n",
       "      <td>220.230</td>\n",
       "      <td>94</td>\n",
       "      <td>92</td>\n",
       "      <td>0.004910</td>\n",
       "      <td>0.000320</td>\n",
       "      <td>0.000</td>\n",
       "      <td>0</td>\n",
       "      <td>0.000</td>\n",
       "      <td>23</td>\n",
       "      <td>1</td>\n",
       "    </tr>\n",
       "    <tr>\n",
       "      <th>4</th>\n",
       "      <td>1</td>\n",
       "      <td>3.509</td>\n",
       "      <td>0.000167</td>\n",
       "      <td>1.715</td>\n",
       "      <td>1.539</td>\n",
       "      <td>5.145</td>\n",
       "      <td>9.112</td>\n",
       "      <td>1.040</td>\n",
       "      <td>3.102</td>\n",
       "      <td>4.927</td>\n",
       "      <td>...</td>\n",
       "      <td>225.162</td>\n",
       "      <td>117</td>\n",
       "      <td>114</td>\n",
       "      <td>0.004757</td>\n",
       "      <td>0.000380</td>\n",
       "      <td>18.182</td>\n",
       "      <td>1</td>\n",
       "      <td>13.318</td>\n",
       "      <td>23</td>\n",
       "      <td>1</td>\n",
       "    </tr>\n",
       "    <tr>\n",
       "      <th>5</th>\n",
       "      <td>1</td>\n",
       "      <td>2.470</td>\n",
       "      <td>0.000126</td>\n",
       "      <td>1.358</td>\n",
       "      <td>1.341</td>\n",
       "      <td>4.075</td>\n",
       "      <td>10.696</td>\n",
       "      <td>1.256</td>\n",
       "      <td>5.262</td>\n",
       "      <td>7.076</td>\n",
       "      <td>...</td>\n",
       "      <td>202.812</td>\n",
       "      <td>74</td>\n",
       "      <td>73</td>\n",
       "      <td>0.005118</td>\n",
       "      <td>0.000187</td>\n",
       "      <td>23.214</td>\n",
       "      <td>0</td>\n",
       "      <td>0.000</td>\n",
       "      <td>23</td>\n",
       "      <td>1</td>\n",
       "    </tr>\n",
       "    <tr>\n",
       "      <th>6</th>\n",
       "      <td>1</td>\n",
       "      <td>1.583</td>\n",
       "      <td>0.000082</td>\n",
       "      <td>0.768</td>\n",
       "      <td>0.864</td>\n",
       "      <td>2.303</td>\n",
       "      <td>9.057</td>\n",
       "      <td>1.070</td>\n",
       "      <td>3.794</td>\n",
       "      <td>5.158</td>\n",
       "      <td>...</td>\n",
       "      <td>200.638</td>\n",
       "      <td>85</td>\n",
       "      <td>84</td>\n",
       "      <td>0.005199</td>\n",
       "      <td>0.000245</td>\n",
       "      <td>4.348</td>\n",
       "      <td>0</td>\n",
       "      <td>0.000</td>\n",
       "      <td>23</td>\n",
       "      <td>1</td>\n",
       "    </tr>\n",
       "    <tr>\n",
       "      <th>7</th>\n",
       "      <td>1</td>\n",
       "      <td>1.920</td>\n",
       "      <td>0.000099</td>\n",
       "      <td>0.926</td>\n",
       "      <td>1.031</td>\n",
       "      <td>2.777</td>\n",
       "      <td>10.184</td>\n",
       "      <td>1.108</td>\n",
       "      <td>3.650</td>\n",
       "      <td>4.611</td>\n",
       "      <td>...</td>\n",
       "      <td>201.921</td>\n",
       "      <td>71</td>\n",
       "      <td>70</td>\n",
       "      <td>0.005137</td>\n",
       "      <td>0.000215</td>\n",
       "      <td>33.929</td>\n",
       "      <td>0</td>\n",
       "      <td>0.000</td>\n",
       "      <td>23</td>\n",
       "      <td>1</td>\n",
       "    </tr>\n",
       "    <tr>\n",
       "      <th>8</th>\n",
       "      <td>1</td>\n",
       "      <td>2.257</td>\n",
       "      <td>0.000119</td>\n",
       "      <td>1.239</td>\n",
       "      <td>1.530</td>\n",
       "      <td>3.716</td>\n",
       "      <td>8.044</td>\n",
       "      <td>0.877</td>\n",
       "      <td>3.449</td>\n",
       "      <td>4.239</td>\n",
       "      <td>...</td>\n",
       "      <td>210.523</td>\n",
       "      <td>107</td>\n",
       "      <td>104</td>\n",
       "      <td>0.005282</td>\n",
       "      <td>0.000348</td>\n",
       "      <td>15.152</td>\n",
       "      <td>2</td>\n",
       "      <td>9.810</td>\n",
       "      <td>23</td>\n",
       "      <td>1</td>\n",
       "    </tr>\n",
       "    <tr>\n",
       "      <th>9</th>\n",
       "      <td>1</td>\n",
       "      <td>1.594</td>\n",
       "      <td>0.000085</td>\n",
       "      <td>0.850</td>\n",
       "      <td>0.951</td>\n",
       "      <td>2.550</td>\n",
       "      <td>7.200</td>\n",
       "      <td>0.823</td>\n",
       "      <td>2.480</td>\n",
       "      <td>3.826</td>\n",
       "      <td>...</td>\n",
       "      <td>203.133</td>\n",
       "      <td>113</td>\n",
       "      <td>112</td>\n",
       "      <td>0.005335</td>\n",
       "      <td>0.000332</td>\n",
       "      <td>0.000</td>\n",
       "      <td>0</td>\n",
       "      <td>0.000</td>\n",
       "      <td>23</td>\n",
       "      <td>1</td>\n",
       "    </tr>\n",
       "  </tbody>\n",
       "</table>\n",
       "<p>10 rows × 29 columns</p>\n",
       "</div>"
      ],
      "text/plain": [
       "   Subject id  Jitter (local)  Jitter (local, absolute)  Jitter (rap)  \\\n",
       "0           1           1.488                  0.000090         0.900   \n",
       "1           1           0.728                  0.000038         0.353   \n",
       "2           1           1.220                  0.000074         0.732   \n",
       "3           1           2.502                  0.000123         1.156   \n",
       "4           1           3.509                  0.000167         1.715   \n",
       "5           1           2.470                  0.000126         1.358   \n",
       "6           1           1.583                  0.000082         0.768   \n",
       "7           1           1.920                  0.000099         0.926   \n",
       "8           1           2.257                  0.000119         1.239   \n",
       "9           1           1.594                  0.000085         0.850   \n",
       "\n",
       "   Jitter (ppq5)  Jitter (ddp)  Shimmer (local)  Shimmer (local, dB)  \\\n",
       "0          0.794         2.699            8.334                0.779   \n",
       "1          0.376         1.059            5.864                0.642   \n",
       "2          0.670         2.196            8.719                0.875   \n",
       "3          1.634         3.469           13.513                1.273   \n",
       "4          1.539         5.145            9.112                1.040   \n",
       "5          1.341         4.075           10.696                1.256   \n",
       "6          0.864         2.303            9.057                1.070   \n",
       "7          1.031         2.777           10.184                1.108   \n",
       "8          1.530         3.716            8.044                0.877   \n",
       "9          0.951         2.550            7.200                0.823   \n",
       "\n",
       "   Shimmer (apq3)  Shimmer (apq5)  ...  Maximum pitch  Number of pulses  \\\n",
       "0           4.517           4.609  ...        187.576               160   \n",
       "1           2.058           3.180  ...        234.505               170   \n",
       "2           4.347           5.166  ...        211.442              1431   \n",
       "3           5.263           8.771  ...        220.230                94   \n",
       "4           3.102           4.927  ...        225.162               117   \n",
       "5           5.262           7.076  ...        202.812                74   \n",
       "6           3.794           5.158  ...        200.638                85   \n",
       "7           3.650           4.611  ...        201.921                71   \n",
       "8           3.449           4.239  ...        210.523               107   \n",
       "9           2.480           3.826  ...        203.133               113   \n",
       "\n",
       "   Number of periods  Mean period  Standard deviation of period  \\\n",
       "0                159     0.006065                      0.000416   \n",
       "1                169     0.005181                      0.000403   \n",
       "2               1427     0.006071                      0.000474   \n",
       "3                 92     0.004910                      0.000320   \n",
       "4                114     0.004757                      0.000380   \n",
       "5                 73     0.005118                      0.000187   \n",
       "6                 84     0.005199                      0.000245   \n",
       "7                 70     0.005137                      0.000215   \n",
       "8                104     0.005282                      0.000348   \n",
       "9                112     0.005335                      0.000332   \n",
       "\n",
       "   Fraction of locally unvoiced frames  Number of voice breaks  \\\n",
       "0                                0.000                       0   \n",
       "1                                2.247                       0   \n",
       "2                               10.656                       1   \n",
       "3                                0.000                       0   \n",
       "4                               18.182                       1   \n",
       "5                               23.214                       0   \n",
       "6                                4.348                       0   \n",
       "7                               33.929                       0   \n",
       "8                               15.152                       2   \n",
       "9                                0.000                       0   \n",
       "\n",
       "   Degree of voice breaks  UPDRS score  Class Information  \n",
       "0                   0.000           23                  1  \n",
       "1                   0.000           23                  1  \n",
       "2                   0.178           23                  1  \n",
       "3                   0.000           23                  1  \n",
       "4                  13.318           23                  1  \n",
       "5                   0.000           23                  1  \n",
       "6                   0.000           23                  1  \n",
       "7                   0.000           23                  1  \n",
       "8                   9.810           23                  1  \n",
       "9                   0.000           23                  1  \n",
       "\n",
       "[10 rows x 29 columns]"
      ]
     },
     "execution_count": 72,
     "metadata": {},
     "output_type": "execute_result"
    }
   ],
   "source": [
    "df.head(10)"
   ]
  },
  {
   "cell_type": "markdown",
   "id": "107521a2",
   "metadata": {},
   "source": [
    "#### Step 2: Explore the Data"
   ]
  },
  {
   "cell_type": "code",
   "execution_count": 73,
   "id": "4595b5dc",
   "metadata": {},
   "outputs": [
    {
     "name": "stdout",
     "output_type": "stream",
     "text": [
      "Missing values before handling:\n",
      "\n",
      "Subject id                             0\n",
      "Jitter (local)                         0\n",
      "Jitter (local, absolute)               0\n",
      "Jitter (rap)                           0\n",
      "Jitter (ppq5)                          0\n",
      "Jitter (ddp)                           0\n",
      "Shimmer (local)                        0\n",
      "Shimmer (local, dB)                    0\n",
      "Shimmer (apq3)                         0\n",
      "Shimmer (apq5)                         0\n",
      "Shimmer (apq11)                        0\n",
      "Shimmer (dda)                          0\n",
      "AC                                     0\n",
      "NTH                                    0\n",
      "HTN                                    0\n",
      "Median pitch                           0\n",
      "Mean pitch                             0\n",
      "Standard deviation                     0\n",
      "Minimum pitch                          0\n",
      "Maximum pitch                          0\n",
      "Number of pulses                       0\n",
      "Number of periods                      0\n",
      "Mean period                            0\n",
      "Standard deviation of period           0\n",
      "Fraction of locally unvoiced frames    0\n",
      "Number of voice breaks                 0\n",
      "Degree of voice breaks                 0\n",
      "UPDRS score                            0\n",
      "Class Information                      0\n",
      "dtype: int64\n"
     ]
    }
   ],
   "source": [
    "# Check for missing values\n",
    "print(\"Missing values before handling:\\n\")\n",
    "print(df.isnull().sum())"
   ]
  },
  {
   "cell_type": "markdown",
   "id": "448e8f67",
   "metadata": {},
   "source": [
    "#### Step 3: Preprocess the Data"
   ]
  },
  {
   "cell_type": "code",
   "execution_count": 74,
   "id": "8e13ab93",
   "metadata": {},
   "outputs": [],
   "source": [
    "# Drop non-significant columns\n",
    "df = df.drop(['Subject id', 'Class Information'], axis=1)"
   ]
  },
  {
   "cell_type": "code",
   "execution_count": 75,
   "id": "354439c3",
   "metadata": {},
   "outputs": [],
   "source": [
    "# Separate features and target variable\n",
    "X = df.drop(['UPDRS score'], axis=1)\n",
    "y = df['UPDRS score']"
   ]
  },
  {
   "cell_type": "markdown",
   "id": "9776e69f",
   "metadata": {},
   "source": [
    "- We dropped 'Subject id', 'UPDRS score', 'Class Information' from the model. 'Subject id' did not significantly impact the MLR model's performance, 'UPDRS score' was designated as the target variable, and 'Class Information' is a categorical variable indicating the presence or absence of Parkinson’s disease, which is not directly relevant for predicting the continuous UPDRS score."
   ]
  },
  {
   "cell_type": "markdown",
   "id": "c2342c34",
   "metadata": {},
   "source": [
    "#### Step 4: Split the dataset"
   ]
  },
  {
   "cell_type": "code",
   "execution_count": 76,
   "id": "9f53c95f",
   "metadata": {},
   "outputs": [],
   "source": [
    "from sklearn.model_selection import train_test_split"
   ]
  },
  {
   "cell_type": "code",
   "execution_count": 77,
   "id": "2c6b8a28",
   "metadata": {},
   "outputs": [],
   "source": [
    "# Split the data into training and testing sets\n",
    "X_train, X_test, y_train, y_test = train_test_split(X, y, test_size=0.2, random_state=42)"
   ]
  },
  {
   "cell_type": "code",
   "execution_count": 78,
   "id": "f76d8a4a",
   "metadata": {},
   "outputs": [],
   "source": [
    "from sklearn.preprocessing import StandardScaler"
   ]
  },
  {
   "cell_type": "code",
   "execution_count": 79,
   "id": "59120ecb",
   "metadata": {},
   "outputs": [],
   "source": [
    "# Standardize the features\n",
    "scaler = StandardScaler()\n",
    "X_train = scaler.fit_transform(X_train)\n",
    "X_test = scaler.transform(X_test)"
   ]
  },
  {
   "cell_type": "markdown",
   "id": "e5433c1c",
   "metadata": {},
   "source": [
    "- We run this step to ensure that all features contribute equally to the model. This is important for the stability and efficiency of the training process in Multiple Linear Regression Model."
   ]
  },
  {
   "cell_type": "markdown",
   "id": "f21aa9d3",
   "metadata": {},
   "source": [
    "#### Step 5: Train the Multiple Linear Regression model"
   ]
  },
  {
   "cell_type": "code",
   "execution_count": 80,
   "id": "0392fba1",
   "metadata": {},
   "outputs": [],
   "source": [
    "from sklearn.linear_model import LinearRegression"
   ]
  },
  {
   "cell_type": "code",
   "execution_count": 81,
   "id": "3f5d866a",
   "metadata": {},
   "outputs": [
    {
     "data": {
      "text/html": [
       "<style>#sk-container-id-3 {color: black;background-color: white;}#sk-container-id-3 pre{padding: 0;}#sk-container-id-3 div.sk-toggleable {background-color: white;}#sk-container-id-3 label.sk-toggleable__label {cursor: pointer;display: block;width: 100%;margin-bottom: 0;padding: 0.3em;box-sizing: border-box;text-align: center;}#sk-container-id-3 label.sk-toggleable__label-arrow:before {content: \"▸\";float: left;margin-right: 0.25em;color: #696969;}#sk-container-id-3 label.sk-toggleable__label-arrow:hover:before {color: black;}#sk-container-id-3 div.sk-estimator:hover label.sk-toggleable__label-arrow:before {color: black;}#sk-container-id-3 div.sk-toggleable__content {max-height: 0;max-width: 0;overflow: hidden;text-align: left;background-color: #f0f8ff;}#sk-container-id-3 div.sk-toggleable__content pre {margin: 0.2em;color: black;border-radius: 0.25em;background-color: #f0f8ff;}#sk-container-id-3 input.sk-toggleable__control:checked~div.sk-toggleable__content {max-height: 200px;max-width: 100%;overflow: auto;}#sk-container-id-3 input.sk-toggleable__control:checked~label.sk-toggleable__label-arrow:before {content: \"▾\";}#sk-container-id-3 div.sk-estimator input.sk-toggleable__control:checked~label.sk-toggleable__label {background-color: #d4ebff;}#sk-container-id-3 div.sk-label input.sk-toggleable__control:checked~label.sk-toggleable__label {background-color: #d4ebff;}#sk-container-id-3 input.sk-hidden--visually {border: 0;clip: rect(1px 1px 1px 1px);clip: rect(1px, 1px, 1px, 1px);height: 1px;margin: -1px;overflow: hidden;padding: 0;position: absolute;width: 1px;}#sk-container-id-3 div.sk-estimator {font-family: monospace;background-color: #f0f8ff;border: 1px dotted black;border-radius: 0.25em;box-sizing: border-box;margin-bottom: 0.5em;}#sk-container-id-3 div.sk-estimator:hover {background-color: #d4ebff;}#sk-container-id-3 div.sk-parallel-item::after {content: \"\";width: 100%;border-bottom: 1px solid gray;flex-grow: 1;}#sk-container-id-3 div.sk-label:hover label.sk-toggleable__label {background-color: #d4ebff;}#sk-container-id-3 div.sk-serial::before {content: \"\";position: absolute;border-left: 1px solid gray;box-sizing: border-box;top: 0;bottom: 0;left: 50%;z-index: 0;}#sk-container-id-3 div.sk-serial {display: flex;flex-direction: column;align-items: center;background-color: white;padding-right: 0.2em;padding-left: 0.2em;position: relative;}#sk-container-id-3 div.sk-item {position: relative;z-index: 1;}#sk-container-id-3 div.sk-parallel {display: flex;align-items: stretch;justify-content: center;background-color: white;position: relative;}#sk-container-id-3 div.sk-item::before, #sk-container-id-3 div.sk-parallel-item::before {content: \"\";position: absolute;border-left: 1px solid gray;box-sizing: border-box;top: 0;bottom: 0;left: 50%;z-index: -1;}#sk-container-id-3 div.sk-parallel-item {display: flex;flex-direction: column;z-index: 1;position: relative;background-color: white;}#sk-container-id-3 div.sk-parallel-item:first-child::after {align-self: flex-end;width: 50%;}#sk-container-id-3 div.sk-parallel-item:last-child::after {align-self: flex-start;width: 50%;}#sk-container-id-3 div.sk-parallel-item:only-child::after {width: 0;}#sk-container-id-3 div.sk-dashed-wrapped {border: 1px dashed gray;margin: 0 0.4em 0.5em 0.4em;box-sizing: border-box;padding-bottom: 0.4em;background-color: white;}#sk-container-id-3 div.sk-label label {font-family: monospace;font-weight: bold;display: inline-block;line-height: 1.2em;}#sk-container-id-3 div.sk-label-container {text-align: center;}#sk-container-id-3 div.sk-container {/* jupyter's `normalize.less` sets `[hidden] { display: none; }` but bootstrap.min.css set `[hidden] { display: none !important; }` so we also need the `!important` here to be able to override the default hidden behavior on the sphinx rendered scikit-learn.org. See: https://github.com/scikit-learn/scikit-learn/issues/21755 */display: inline-block !important;position: relative;}#sk-container-id-3 div.sk-text-repr-fallback {display: none;}</style><div id=\"sk-container-id-3\" class=\"sk-top-container\"><div class=\"sk-text-repr-fallback\"><pre>LinearRegression()</pre><b>In a Jupyter environment, please rerun this cell to show the HTML representation or trust the notebook. <br />On GitHub, the HTML representation is unable to render, please try loading this page with nbviewer.org.</b></div><div class=\"sk-container\" hidden><div class=\"sk-item\"><div class=\"sk-estimator sk-toggleable\"><input class=\"sk-toggleable__control sk-hidden--visually\" id=\"sk-estimator-id-3\" type=\"checkbox\" checked><label for=\"sk-estimator-id-3\" class=\"sk-toggleable__label sk-toggleable__label-arrow\">LinearRegression</label><div class=\"sk-toggleable__content\"><pre>LinearRegression()</pre></div></div></div></div></div>"
      ],
      "text/plain": [
       "LinearRegression()"
      ]
     },
     "execution_count": 81,
     "metadata": {},
     "output_type": "execute_result"
    }
   ],
   "source": [
    "# Build the Multiple Linear Regression model\n",
    "model = LinearRegression()\n",
    "model.fit(X_train, y_train)"
   ]
  },
  {
   "cell_type": "code",
   "execution_count": 82,
   "id": "2160d87d",
   "metadata": {},
   "outputs": [],
   "source": [
    "# Predict the UPDRS scores for the test set\n",
    "y_pred = model.predict(X_test)"
   ]
  },
  {
   "cell_type": "markdown",
   "id": "eae98a93",
   "metadata": {},
   "source": [
    "#### Step 6: Evaluate the model"
   ]
  },
  {
   "cell_type": "code",
   "execution_count": 83,
   "id": "7e98e9fd",
   "metadata": {},
   "outputs": [],
   "source": [
    "from sklearn.metrics import mean_squared_error, r2_score"
   ]
  },
  {
   "cell_type": "code",
   "execution_count": 84,
   "id": "72faa29d",
   "metadata": {},
   "outputs": [],
   "source": [
    "# Evaluate the model\n",
    "MLR_mse = mean_squared_error(y_test, y_pred)\n",
    "r2 = r2_score(y_test, y_pred)\n",
    "cv_scores_lr = cross_val_score(model, X, y, cv=5, scoring='r2')"
   ]
  },
  {
   "cell_type": "code",
   "execution_count": 85,
   "id": "b5bf71e9",
   "metadata": {},
   "outputs": [
    {
     "name": "stdout",
     "output_type": "stream",
     "text": [
      "Linear Regression - MSE: 214.1882036951883 \n",
      "R2: 0.12217816256786163 \n",
      "CV R2: -0.4488644603972037\n"
     ]
    }
   ],
   "source": [
    "print(\"Linear Regression - MSE:\", MLR_mse, \"\\nR2:\", r2, \"\\nCV R2:\", cv_scores_lr.mean())"
   ]
  },
  {
   "cell_type": "markdown",
   "id": "06271c0c",
   "metadata": {},
   "source": [
    "MSE measures the average of the squares of the errors that is, the difference between the actual values and the predicted values. In this context, it means that on average, the square of the errors between the predicted and actual UPDRS scores is about 214.19.\n",
    "\n",
    "A lower MSE indicates better model performance. In this case, an MSE of 214.19 suggests that there is a substantial error in the predictions. This might imply that the model is not performing very well."
   ]
  },
  {
   "cell_type": "markdown",
   "id": "273f54ef",
   "metadata": {},
   "source": [
    "R-squared is a statistical measure of how close the data are to the fitted regression line. It represents the proportion of the variance in the dependent variable (UPDRS scores) that is predictable from the independent variables (features).\n",
    "\n",
    "R² ranges from 0 to 1. An R² value of 0.122 means that only about 12.2% of the variability in UPDRS scores is explained by the model. This indicates that the model is not capturing a significant portion of the variance and might not be a good predictor."
   ]
  },
  {
   "cell_type": "markdown",
   "id": "ff6d1f86",
   "metadata": {},
   "source": [
    "**MLR Model Performance:** \n",
    "\n",
    "The high MSE and low R² values indicate that the model is not performing well. This suggests that either the features are not good predictors or that the linear model is not suitable for this problem.\n"
   ]
  },
  {
   "cell_type": "markdown",
   "id": "7f17ab65",
   "metadata": {},
   "source": [
    "## Steps to find the best model by running test with Ridge and Lasso Regression"
   ]
  },
  {
   "cell_type": "markdown",
   "id": "ccecc42c",
   "metadata": {},
   "source": [
    "### Ridge Regression"
   ]
  },
  {
   "cell_type": "code",
   "execution_count": 50,
   "id": "2ef665e7",
   "metadata": {},
   "outputs": [
    {
     "name": "stdout",
     "output_type": "stream",
     "text": [
      "Ridge Regression - MSE: 212.5192075426505 \n",
      "R2: 0.12901832110139522 \n",
      "CV R2: -0.4090502056005335\n"
     ]
    }
   ],
   "source": [
    "from sklearn.linear_model import Ridge\n",
    "from sklearn.model_selection import cross_val_score\n",
    "\n",
    "ridge = Ridge(alpha=1.0)\n",
    "\n",
    "# Train and evaluate Ridge Regression\n",
    "ridge.fit(X_train, y_train)\n",
    "y_pred_ridge = ridge.predict(X_test)\n",
    "mse_ridge = mean_squared_error(y_test, y_pred_ridge)\n",
    "r2_ridge = r2_score(y_test, y_pred_ridge)\n",
    "\n",
    "# Cross-validation scores\n",
    "cv_scores_ridge = cross_val_score(ridge, X, y, cv=5, scoring='r2')\n",
    "\n",
    "# Output\n",
    "print(\"Ridge Regression - MSE:\", mse_ridge, \"\\nR2:\", r2_ridge, \"\\nCV R2:\", cv_scores_ridge.mean())"
   ]
  },
  {
   "cell_type": "markdown",
   "id": "521c8aa1",
   "metadata": {},
   "source": [
    "### Lasso Regression"
   ]
  },
  {
   "cell_type": "code",
   "execution_count": 51,
   "id": "ea0cef37",
   "metadata": {},
   "outputs": [
    {
     "name": "stdout",
     "output_type": "stream",
     "text": [
      "Lasso Regression - MSE: 212.9674508530177 \n",
      "R2: 0.12718125556961113 \n",
      "CV R2: -0.4104392544094592\n"
     ]
    },
    {
     "name": "stderr",
     "output_type": "stream",
     "text": [
      "C:\\Users\\User\\anaconda3\\Lib\\site-packages\\sklearn\\linear_model\\_coordinate_descent.py:631: ConvergenceWarning: Objective did not converge. You might want to increase the number of iterations, check the scale of the features or consider increasing regularisation. Duality gap: 7.487e+04, tolerance: 1.827e+01\n",
      "  model = cd_fast.enet_coordinate_descent(\n",
      "C:\\Users\\User\\anaconda3\\Lib\\site-packages\\sklearn\\linear_model\\_coordinate_descent.py:631: ConvergenceWarning: Objective did not converge. You might want to increase the number of iterations, check the scale of the features or consider increasing regularisation. Duality gap: 6.782e+04, tolerance: 1.848e+01\n",
      "  model = cd_fast.enet_coordinate_descent(\n",
      "C:\\Users\\User\\anaconda3\\Lib\\site-packages\\sklearn\\linear_model\\_coordinate_descent.py:631: ConvergenceWarning: Objective did not converge. You might want to increase the number of iterations, check the scale of the features or consider increasing regularisation. Duality gap: 6.033e+04, tolerance: 2.037e+01\n",
      "  model = cd_fast.enet_coordinate_descent(\n",
      "C:\\Users\\User\\anaconda3\\Lib\\site-packages\\sklearn\\linear_model\\_coordinate_descent.py:631: ConvergenceWarning: Objective did not converge. You might want to increase the number of iterations, check the scale of the features or consider increasing regularisation. Duality gap: 8.640e+04, tolerance: 2.251e+01\n",
      "  model = cd_fast.enet_coordinate_descent(\n",
      "C:\\Users\\User\\anaconda3\\Lib\\site-packages\\sklearn\\linear_model\\_coordinate_descent.py:631: ConvergenceWarning: Objective did not converge. You might want to increase the number of iterations, check the scale of the features or consider increasing regularisation. Duality gap: 9.379e+04, tolerance: 2.251e+01\n",
      "  model = cd_fast.enet_coordinate_descent(\n"
     ]
    }
   ],
   "source": [
    "from sklearn.linear_model import Lasso\n",
    "\n",
    "lasso = Lasso(alpha=0.1)\n",
    "\n",
    "# Train and evaluate Lasso Regression\n",
    "lasso.fit(X_train, y_train)\n",
    "y_pred_lasso = lasso.predict(X_test)\n",
    "mse_lasso = mean_squared_error(y_test, y_pred_lasso)\n",
    "r2_lasso = r2_score(y_test, y_pred_lasso)\n",
    "\n",
    "# Cross-validation scores\n",
    "cv_scores_lasso = cross_val_score(lasso, X, y, cv=5, scoring='r2')\n",
    "\n",
    "# Output\n",
    "print(\"Lasso Regression - MSE:\", mse_lasso, \"\\nR2:\", r2_lasso, \"\\nCV R2:\", cv_scores_lasso.mean())"
   ]
  },
  {
   "cell_type": "markdown",
   "id": "64674b8e",
   "metadata": {},
   "source": [
    "### **Linear, Ridge and Lasso Regression Model Performance**\n",
    "\n",
    "**Performance Metrics**\n",
    "\n",
    "For Linear Regression, the Mean Squared Error (MSE) is 214.19, the R-squared (R²) is 0.1222, and the Cross-Validation R² (CV R²) is -0.4489. For Ridge Regression, the Mean Squared Error (MSE) is 212.51, the R-squared (R²) is 0.1290, and the Cross-Validation R² (CV R²) is -0.4484. For Lasso Regression, the Mean Squared Error (MSE) is 212.95, the R-squared (R²) is 0.1272, and the Cross-Validation R² (CV R²) is -0.4340.\n",
    "\n",
    "**Comparison**\n",
    "\n",
    "When comparing Mean Squared Error (MSE) values, Ridge Regression has the lowest MSE (212.51), followed closely by Lasso Regression (212.95), and then Linear Regression (214.19). Lower MSE values indicate better predictive accuracy. In terms of R-squared (R²), Ridge Regression has the highest R² (0.1290), followed by Lasso Regression (0.1272), and then Linear Regression (0.1222). Higher R² values indicate a better fit to the data. For Cross-Validation R² (CV R²) scores, all models have negative values, indicating potential issues with generalization to unseen data. However, Lasso Regression has the least negative CV R² (-0.4340), suggesting it might be slightly more robust in terms of generalization compared to Ridge and Linear Regression.\n",
    "\n",
    "Based on the comparison of MSE, R², and CV R², Ridge Regression appears to be the best model among the three. It has the lowest MSE and the highest R², indicating that it fits the data slightly better than Linear and Lasso Regression. However, the differences are relatively small, and all models have challenges with generalization as indicated by the negative CV R² scores."
   ]
  },
  {
   "cell_type": "markdown",
   "id": "10171e36",
   "metadata": {},
   "source": [
    "MSE value for Linear, Ridge and Lasso are all consider high. Lets see if Random Forest can improve the prediction performance. "
   ]
  },
  {
   "cell_type": "markdown",
   "id": "718fef8f",
   "metadata": {},
   "source": [
    "### **Random Forest**"
   ]
  },
  {
   "cell_type": "code",
   "execution_count": 60,
   "id": "7b349ff0",
   "metadata": {},
   "outputs": [
    {
     "name": "stdout",
     "output_type": "stream",
     "text": [
      "Mean Squared Error of Random Forest model: 195.1649466346154\n"
     ]
    }
   ],
   "source": [
    "from sklearn.ensemble import RandomForestRegressor\n",
    "\n",
    "# Initialize Random Forest Regressor with default parameters\n",
    "rf_model = RandomForestRegressor(random_state=42)\n",
    "\n",
    "# Train the model\n",
    "rf_model.fit(X_train, y_train)\n",
    "\n",
    "from sklearn.metrics import mean_squared_error\n",
    "\n",
    "# Predict using the trained model\n",
    "y_pred_rf = rf_model.predict(X_test)\n",
    "\n",
    "# Calculate Mean Squared Error\n",
    "mse_rf = mean_squared_error(y_test, y_pred_rf)\n",
    "\n",
    "print(\"Mean Squared Error of Random Forest model:\", mse_rf)\n"
   ]
  },
  {
   "cell_type": "markdown",
   "id": "0c12e99d",
   "metadata": {},
   "source": [
    "The Random Forest model with default parameters performed better than the initial MLR model, reducing the MSE from 214.19 to 196.51."
   ]
  },
  {
   "cell_type": "code",
   "execution_count": 61,
   "id": "1f54f8d2",
   "metadata": {},
   "outputs": [
    {
     "name": "stdout",
     "output_type": "stream",
     "text": [
      "Best n_estimators: (200, 193.3496373798077, 0.20758225232086702)\n"
     ]
    }
   ],
   "source": [
    "import pandas as pd\n",
    "from sklearn.model_selection import train_test_split\n",
    "from sklearn.ensemble import RandomForestRegressor\n",
    "from sklearn.metrics import mean_squared_error, r2_score\n",
    "\n",
    "# Load the dataset\n",
    "\n",
    "data = pd.read_csv(\"C:/Users/User/UKM - Nur Azlin Binti Rusnan/Sem 2/Machine Learning/Assignment 2/Assignment2_2023_data.txt\", names=[\n",
    "    'Subject id', 'Jitter (local)', 'Jitter (local, absolute)', 'Jitter (rap)', 'Jitter (ppq5)', 'Jitter (ddp)',\n",
    "    'Shimmer (local)', 'Shimmer (local, dB)', 'Shimmer (apq3)', 'Shimmer (apq5)', 'Shimmer (apq11)', 'Shimmer (dda)',\n",
    "    'AC', 'NTH', 'HTN', 'Median pitch', 'Mean pitch', 'Standard deviation', 'Minimum pitch', 'Maximum pitch',\n",
    "    'Number of pulses', 'Number of periods', 'Mean period', 'Standard deviation of period',\n",
    "    'Fraction of locally unvoiced frames', 'Number of voice breaks', 'Degree of voice breaks', 'UPDRS score', 'Class Information'\n",
    "])\n",
    "\n",
    "X = data.drop(columns=['Subject id', 'UPDRS score', 'Class Information'])\n",
    "y = data['UPDRS score']\n",
    "\n",
    "from sklearn.model_selection import train_test_split\n",
    "\n",
    "X_train, X_test, y_train, y_test = train_test_split(X, y, test_size=0.2, random_state=42)\n",
    "\n",
    "from sklearn.preprocessing import StandardScaler\n",
    "\n",
    "scaler = StandardScaler()\n",
    "X_train_scaled = scaler.fit_transform(X_train)\n",
    "X_test_scaled = scaler.transform(X_test)\n",
    "\n",
    "from sklearn.ensemble import RandomForestRegressor\n",
    "from sklearn.metrics import mean_squared_error, r2_score\n",
    "\n",
    "n_estimators_values = [100, 200, 300]\n",
    "results = []\n",
    "\n",
    "for n in n_estimators_values:\n",
    "    rf_model = RandomForestRegressor(n_estimators=n, random_state=42)\n",
    "    rf_model.fit(X_train_scaled, y_train)\n",
    "    y_pred = rf_model.predict(X_test_scaled)\n",
    "    mse = mean_squared_error(y_test, y_pred)\n",
    "    r2 = r2_score(y_test, y_pred)\n",
    "    results.append((n, mse, r2))\n",
    "\n",
    "best_n = min(results, key=lambda x: x[1])  # Get the parameters with the best (lowest) MSE\n",
    "print(\"Best n_estimators:\", best_n)\n"
   ]
  },
  {
   "cell_type": "code",
   "execution_count": 62,
   "id": "ba0dcdc0",
   "metadata": {},
   "outputs": [
    {
     "name": "stdout",
     "output_type": "stream",
     "text": [
      "Best max_depth: (10, 190.94717165434253, 0.21742843825040026)\n"
     ]
    }
   ],
   "source": [
    "# Define values for max_depth to test\n",
    "max_depth_values = [10, 20, 30, None]\n",
    "results_depth = []\n",
    "\n",
    "for depth in max_depth_values:\n",
    "    rf_model = RandomForestRegressor(n_estimators=200, max_depth=depth, random_state=42)\n",
    "    rf_model.fit(X_train_scaled, y_train)\n",
    "    y_pred = rf_model.predict(X_test_scaled)\n",
    "    mse = mean_squared_error(y_test, y_pred)\n",
    "    r2 = r2_score(y_test, y_pred)\n",
    "    results_depth.append((depth, mse, r2))\n",
    "\n",
    "best_depth = min(results_depth, key=lambda x: x[1])  # Get the parameters with the best (lowest) MSE\n",
    "print(\"Best max_depth:\", best_depth)\n"
   ]
  },
  {
   "cell_type": "code",
   "execution_count": 63,
   "id": "63eb8b1f",
   "metadata": {},
   "outputs": [
    {
     "name": "stdout",
     "output_type": "stream",
     "text": [
      "Best min_samples_split: (2, 190.94717165434253, 0.21742843825040026)\n"
     ]
    }
   ],
   "source": [
    "# Define values for min_samples_split to test\n",
    "min_samples_split_values = [2, 5, 10]\n",
    "results_split = []\n",
    "\n",
    "for split in min_samples_split_values:\n",
    "    rf_model = RandomForestRegressor(n_estimators=200, max_depth=10, min_samples_split=split, random_state=42)\n",
    "    rf_model.fit(X_train_scaled, y_train)\n",
    "    y_pred = rf_model.predict(X_test_scaled)\n",
    "    mse = mean_squared_error(y_test, y_pred)\n",
    "    r2 = r2_score(y_test, y_pred)\n",
    "    results_split.append((split, mse, r2))\n",
    "\n",
    "best_split = min(results_split, key=lambda x: x[1])  # Get the parameters with the best (lowest) MSE\n",
    "print(\"Best min_samples_split:\", best_split)\n"
   ]
  },
  {
   "cell_type": "code",
   "execution_count": 64,
   "id": "ada32f3b",
   "metadata": {},
   "outputs": [
    {
     "name": "stdout",
     "output_type": "stream",
     "text": [
      "Best min_samples_leaf: (4, 186.62558429747136, 0.23513988868877633)\n"
     ]
    }
   ],
   "source": [
    "# Define values for min_samples_leaf to test\n",
    "min_samples_leaf_values = [1, 2, 4]\n",
    "results_leaf = []\n",
    "\n",
    "for leaf in min_samples_leaf_values:\n",
    "    rf_model = RandomForestRegressor(n_estimators=200, max_depth=10, min_samples_split=2, min_samples_leaf=leaf, random_state=42)\n",
    "    rf_model.fit(X_train_scaled, y_train)\n",
    "    y_pred = rf_model.predict(X_test_scaled)\n",
    "    mse = mean_squared_error(y_test, y_pred)\n",
    "    r2 = r2_score(y_test, y_pred)\n",
    "    results_leaf.append((leaf, mse, r2))\n",
    "\n",
    "best_leaf = min(results_leaf, key=lambda x: x[1])  # Get the parameters with the best (lowest) MSE\n",
    "print(\"Best min_samples_leaf:\", best_leaf)\n"
   ]
  },
  {
   "cell_type": "code",
   "execution_count": 65,
   "id": "25413855",
   "metadata": {},
   "outputs": [
    {
     "data": {
      "text/plain": [
       "(186.62558429747136, 0.23513988868877633)"
      ]
     },
     "execution_count": 65,
     "metadata": {},
     "output_type": "execute_result"
    }
   ],
   "source": [
    "# Train the final model with the best hyperparameters\n",
    "final_rf_model = RandomForestRegressor(\n",
    "    n_estimators=200,\n",
    "    max_depth=10,\n",
    "    min_samples_split=2,\n",
    "    min_samples_leaf=4,\n",
    "    random_state=42\n",
    ")\n",
    "final_rf_model.fit(X_train_scaled, y_train)\n",
    "\n",
    "# Predict on the test set\n",
    "final_y_pred = final_rf_model.predict(X_test_scaled)\n",
    "\n",
    "# Evaluate the final model\n",
    "final_mse = mean_squared_error(y_test, final_y_pred)\n",
    "final_r2 = r2_score(y_test, final_y_pred)\n",
    "\n",
    "final_mse, final_r2\n"
   ]
  },
  {
   "cell_type": "code",
   "execution_count": 86,
   "id": "eb982524",
   "metadata": {},
   "outputs": [
    {
     "data": {
      "image/png": "[encoded data removed]",
      "text/plain": [
       "<Figure size 1200x600 with 1 Axes>"
      ]
     },
     "metadata": {},
     "output_type": "display_data"
    }
   ],
   "source": [
    "# Visualization\n",
    "mse_values = [MLR_mse, mse_ridge, mse_lasso, mse_rf, final_mse]\n",
    "model_names = ['Initial MLR', 'Ridge', 'Lasso', 'Random Forest', 'Tuned RF']\n",
    "\n",
    "plt.figure(figsize=(12, 6))\n",
    "plt.bar(model_names, mse_values, color='blue')\n",
    "plt.ylabel('Mean Squared Error')\n",
    "plt.title('MSE Comparison of Different Models')\n",
    "plt.show()"
   ]
  },
  {
   "cell_type": "markdown",
   "id": "b129ca79",
   "metadata": {},
   "source": [
    "### **Overall Model Performance:** \n",
    "\n",
    "The best Multiple Linear Regression (MLR) model was achieved using Ridge regression, with an MSE of 212.51. This indicates that Ridge regression provided a slight improvement over the initial MLR model (MSE of 214.19) and Lasso regression (MSE of 212.95). However, the Random Forest model, especially after hyperparameter tuning, significantly outperformed all MLR models, achieving a much lower MSE of 186.62. This demonstrates that while Ridge regression is the best MLR model for predicting UPDRS scores, more complex models like Random Forests offer superior predictive performance for this dataset."
   ]
  }
 ],
 "metadata": {
  "kernelspec": {
   "display_name": "Python 3 (ipykernel)",
   "language": "python",
   "name": "python3"
  },
  "language_info": {
   "codemirror_mode": {
    "name": "ipython",
    "version": 3
   },
   "file_extension": ".py",
   "mimetype": "text/x-python",
   "name": "python",
   "nbconvert_exporter": "python",
   "pygments_lexer": "ipython3",
   "version": "3.11.7"
  }
 },
 "nbformat": 4,
 "nbformat_minor": 5
}
